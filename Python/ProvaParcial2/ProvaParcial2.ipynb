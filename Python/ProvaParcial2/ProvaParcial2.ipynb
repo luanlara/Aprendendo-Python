{
 "cells": [
  {
   "cell_type": "code",
   "execution_count": 18,
   "metadata": {},
   "outputs": [
    {
     "name": "stdout",
     "output_type": "stream",
     "text": [
      "55\n"
     ]
    }
   ],
   "source": [
    "#1 - Defina a função fibonacci que recebe como argumento um número natural $n$ e devolve o $n$-ésimo número da sucessão de Fibonacci. \n",
    "# Recorde que a sucessão dos números de Fibonacci é definida recursivamente como se segue:\n",
    "# fibonacci(1)=1\n",
    "# fibonacci(2)=1\n",
    "# fibonacci(n+2)= fibonacci(n+1)+ fibonacci(n)\n",
    "\n",
    "def fibonacci(n, a = 0, b = 1):\n",
    "    if n == 0:\n",
    "        return a\n",
    "    else:\n",
    "        return fibonacci(n - 1, b, a + b)\n",
    "\n",
    "print(fibonacci(10))"
   ]
  },
  {
   "cell_type": "code",
   "execution_count": 10,
   "metadata": {},
   "outputs": [
    {
     "name": "stdout",
     "output_type": "stream",
     "text": [
      "55\n"
     ]
    }
   ],
   "source": [
    "# 2 - Defina a função soma_nat que recebe como argumento um número natural $n$ e devolve a soma de todos os números naturais até $n$.\n",
    "\n",
    "def soma_nat(n):\n",
    "    if n == 1:\n",
    "        return 1\n",
    "    else:\n",
    "        return n + soma_nat(n - 1)\n",
    "\n",
    "print(soma_nat(10))"
   ]
  },
  {
   "cell_type": "code",
   "execution_count": 14,
   "metadata": {},
   "outputs": [
    {
     "name": "stdout",
     "output_type": "stream",
     "text": [
      "[1, 4, 9, 16, 25]\n"
     ]
    }
   ],
   "source": [
    "# 3 - Defina a função quadrados que recebe como argumento um número natural $n$ devolve a lista dos $n$ primeiros quadrados perfeitos.\n",
    "\n",
    "def quadrados(n):\n",
    "    if n == 1:\n",
    "        return 1\n",
    "    else:\n",
    "        return n ** 2 \n",
    "\n",
    "quadrados(5)\n",
    "print(list(map(lambda p : quadrados(p), range(1,6))))"
   ]
  },
  {
   "cell_type": "code",
   "execution_count": 16,
   "metadata": {},
   "outputs": [
    {
     "name": "stdout",
     "output_type": "stream",
     "text": [
      "[25, 16, 9, 4, 1]\n"
     ]
    }
   ],
   "source": [
    "# 4 - efina a função quadrados_inv que recebe como argumento um número natural $n$ devolve a lista dos $n$ primeiros quadrados perfeitos,\n",
    "# por ordem decrescente.\n",
    "\n",
    "def quadrados_inv(n):\n",
    "    if n == 1:\n",
    "        return 1\n",
    "    else:\n",
    "        return n ** 2 \n",
    "\n",
    "quadrados_inv(5)\n",
    "print(list(reversed(list(map(lambda p : quadrados_inv(p), range(1,6))))))"
   ]
  },
  {
   "cell_type": "code",
   "execution_count": 20,
   "metadata": {},
   "outputs": [
    {
     "name": "stdout",
     "output_type": "stream",
     "text": [
      "[4, 7, 2]\n"
     ]
    }
   ],
   "source": [
    "# 5 - Defina a função indices_pares que recebe como argumento uma lista de números inteiros $w$ e devolve a lista dos elementos\n",
    "# de $w$ em posições pares.\n",
    "\n",
    "def indices_pares(n):\n",
    "    return list(filter(lambda p : n.index(p) % 2 == 0, n))\n",
    "    \n",
    "print(indices_pares([4,3,7,1,2,9]))"
   ]
  },
  {
   "cell_type": "code",
   "execution_count": 15,
   "metadata": {},
   "outputs": [
    {
     "name": "stdout",
     "output_type": "stream",
     "text": [
      "[{'nome': 'Arthur', 'idade': 26}, {'nome': 'André', 'idade': 22}, {'nome': 'Tiago', 'idade': 19}]\n",
      "67\n"
     ]
    }
   ],
   "source": [
    "#6 - Utilizando apenas função lambda e as funções map, reducee filter. Crie um script que some todas as idades\n",
    "# das pessoas com mais de 18 anos e menos que 30:\n",
    "\n",
    "from functools import reduce\n",
    "\n",
    "pessoas = [{'nome': 'Pedro', 'idade': 11},\n",
    "   {'nome': 'Mariana', 'idade': 18},\n",
    "   {'nome': 'Arthur', 'idade': 26},\n",
    "   {'nome': 'Rebeca', 'idade': 6},\n",
    "   {'nome': 'Raquel', 'idade': 34},\n",
    "   {'nome': 'André', 'idade':22},\n",
    "   {'nome': 'Tiago', 'idade': 19},\n",
    "   {'nome': 'Gabriela', 'idade': 127}]\n",
    "\n",
    "\n",
    "pessoas_filter = filter(lambda p: p['idade'] > 18 and p['idade'] < 30 , pessoas)\n",
    "pessoas_filter = list(pessoas_filter)\n",
    "\n",
    "print(pessoas_filter)\n",
    "\n",
    "soma_idades = reduce(lambda idade, pessoa: idade + pessoa['idade'], pessoas_filter, 0)\n",
    "print(soma_idades)"
   ]
  }
 ],
 "metadata": {
  "kernelspec": {
   "display_name": "Python 3.10.5 64-bit",
   "language": "python",
   "name": "python3"
  },
  "language_info": {
   "codemirror_mode": {
    "name": "ipython",
    "version": 3
   },
   "file_extension": ".py",
   "mimetype": "text/x-python",
   "name": "python",
   "nbconvert_exporter": "python",
   "pygments_lexer": "ipython3",
   "version": "3.10.5"
  },
  "orig_nbformat": 4,
  "vscode": {
   "interpreter": {
    "hash": "f5a210c7bfabc5aea1472025e5f147f39e322e19c47e4c16fcf92839aba62e73"
   }
  }
 },
 "nbformat": 4,
 "nbformat_minor": 2
}
