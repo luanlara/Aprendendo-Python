{
 "cells": [
  {
   "cell_type": "code",
   "execution_count": 36,
   "metadata": {},
   "outputs": [],
   "source": [
    "### RA - 6\n",
    "\n",
    "import sqlite3\n",
    "\n",
    "conn = sqlite3.connect('ProvaParcial.db')\n",
    "\n",
    "cursor = conn.cursor()\n",
    "cursor.execute(\"\"\"\n",
    "CREATE TABLE IF NOT EXISTS Post(\n",
    "    PostID INTEGER NOT NULL PRIMARY KEY AUTOINCREMENT,\n",
    "    Title TEXT NOT NULL,\n",
    "    Created DATETIME NOT NULL,\n",
    "    Text TEXT NOT NULL\n",
    ")\n",
    "\"\"\")\n",
    "\n",
    "cursor.execute(\"\"\"\n",
    "CREATE TABLE IF NOT EXISTS Comment(\n",
    "    CommentID INTEGER NOT NULL PRIMARY KEY AUTOINCREMENT,\n",
    "    PostID TEXT NOT NULL,\n",
    "    Text TEXT NOT NULL,\n",
    "    Created DATETIME NOT NULL,\n",
    "    User TEXT NOT NULL,\n",
    "    FOREIGN KEY (PostID) REFERENCES Post\n",
    ")\n",
    "\"\"\")\n",
    "\n",
    "conn.commit()\n",
    "conn.close()\n"
   ]
  },
  {
   "cell_type": "code",
   "execution_count": 42,
   "metadata": {},
   "outputs": [],
   "source": [
    "import sqlite3\n",
    "import datetime\n",
    "\n",
    "conn = sqlite3.connect('ProvaParcial.db')\n",
    "\n",
    "cursor = conn.cursor()\n",
    "titulo = input(\"Insira o título: \")\n",
    "data = datetime.datetime.now()\n",
    "texto = input(\"Digite o texto: \")\n",
    "cursor.execute('INSERT INTO Post (Title, Created, Text) VALUES (?,?,?)', (titulo, data, texto))\n",
    "\n",
    "conn.commit()\n",
    "conn.close()"
   ]
  },
  {
   "cell_type": "code",
   "execution_count": 50,
   "metadata": {},
   "outputs": [],
   "source": [
    "import sqlite3\n",
    "import datetime\n",
    "\n",
    "conn = sqlite3.connect('ProvaParcial.db')\n",
    "\n",
    "cursor = conn.cursor()\n",
    "postid = input(\"Insira o código do Post: \")\n",
    "comentario = input(\"Digite o comentário: \")\n",
    "data = datetime.datetime.now()\n",
    "usuario = input(\"Nome de usuário: \")\n",
    "\n",
    "cursor.execute('INSERT INTO Comment (PostID, Text, Created, User) VALUES (?,?,?,?)', (postid, comentario, data, usuario))\n",
    "\n",
    "conn.commit()\n",
    "conn.close()"
   ]
  },
  {
   "cell_type": "code",
   "execution_count": 51,
   "metadata": {},
   "outputs": [
    {
     "name": "stdout",
     "output_type": "stream",
     "text": [
      "(1, 'Novo primeiro título', '2022-09-19 11:05:29.820206', 'Primeiro texto', 1, 'Novo primeiro comentário', 'lu')\n",
      "(1, 'Novo primeiro título', '2022-09-19 11:05:29.820206', 'Primeiro texto', 3, 'Segundo comentário do primeiro Post', 'luan')\n",
      "(3, 'Segundo título', '2022-09-19 11:08:45.665005', 'Texto 2', None, None, None)\n"
     ]
    }
   ],
   "source": [
    "import sqlite3\n",
    "\n",
    "conn = sqlite3.connect('ProvaParcial.db')\n",
    "\n",
    "cursor = conn.cursor()\n",
    "cursor.execute(\"\"\"Select p.PostID, p.Title, p.Created, p.Text, c.CommentID, c.Text, c.User\n",
    "                from Post p\n",
    "                left join Comment c on p.PostID = c.PostID\n",
    "                \"\"\")\n",
    "\n",
    "for linha in cursor.fetchall():\n",
    "    print(linha)\n",
    "\n",
    "\n",
    "conn.commit()\n",
    "conn.close()"
   ]
  },
  {
   "cell_type": "code",
   "execution_count": 47,
   "metadata": {},
   "outputs": [
    {
     "name": "stdout",
     "output_type": "stream",
     "text": [
      "Update realizado com sucesso!\n"
     ]
    }
   ],
   "source": [
    "import sqlite3\n",
    "\n",
    "conn = sqlite3.connect('ProvaParcial.db')\n",
    "\n",
    "cursor = conn.cursor()\n",
    "titulo = input(\"Digite o novo título: \")\n",
    "postid = input(\"Informe o ID do título que deseja ser alterado: \")\n",
    "comentario = input(\"Digite o novo comentário: \")\n",
    "commentid = input(\"Informe o ID do comentário que deseja ser alterado: \")\n",
    "\n",
    "cursor.execute('UPDATE Post SET Title = ? WHERE PostID = ?', (titulo, postid))\n",
    "cursor.execute('UPDATE Comment SET Text = ? WHERE CommentID = ?', (comentario, commentid))\n",
    "\n",
    "print('Update realizado com sucesso!')\n",
    "\n",
    "conn.commit()\n",
    "conn.close()"
   ]
  },
  {
   "cell_type": "code",
   "execution_count": 48,
   "metadata": {},
   "outputs": [
    {
     "name": "stdout",
     "output_type": "stream",
     "text": [
      "Delete realizado com sucesso!\n"
     ]
    }
   ],
   "source": [
    "import sqlite3\n",
    "\n",
    "conn = sqlite3.connect('ProvaParcial.db')\n",
    "\n",
    "cursor = conn.cursor()\n",
    "cursor.execute('DELETE FROM Post WHERE PostID = 2')\n",
    "cursor.execute('DELETE FROM Comment WHERE CommentID = 2')\n",
    "\n",
    "print('Delete realizado com sucesso!')\n",
    "\n",
    "conn.commit()\n",
    "conn.close()\n"
   ]
  }
 ],
 "metadata": {
  "kernelspec": {
   "display_name": "Python 3.10.5 64-bit",
   "language": "python",
   "name": "python3"
  },
  "language_info": {
   "codemirror_mode": {
    "name": "ipython",
    "version": 3
   },
   "file_extension": ".py",
   "mimetype": "text/x-python",
   "name": "python",
   "nbconvert_exporter": "python",
   "pygments_lexer": "ipython3",
   "version": "3.10.5"
  },
  "orig_nbformat": 4,
  "vscode": {
   "interpreter": {
    "hash": "f5a210c7bfabc5aea1472025e5f147f39e322e19c47e4c16fcf92839aba62e73"
   }
  }
 },
 "nbformat": 4,
 "nbformat_minor": 2
}
