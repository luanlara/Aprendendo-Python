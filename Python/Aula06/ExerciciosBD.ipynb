{
 "cells": [
  {
   "cell_type": "code",
   "execution_count": 1,
   "metadata": {},
   "outputs": [],
   "source": [
    "import sqlite3\n",
    "\n",
    "conn = sqlite3.connect('exercicios1.db')\n",
    "\n",
    "cursor = conn.cursor()\n",
    "cursor.execute(\"\"\"\n",
    "CREATE TABLE IF NOT EXISTS Author(\n",
    "    AuthorID INTEGER NOT NULL PRIMARY KEY AUTOINCREMENT,\n",
    "    Name TEXT NOT NULL\n",
    ")\n",
    "\"\"\")\n",
    "\n",
    "cursor.execute(\"\"\"\n",
    "CREATE TABLE IF NOT EXISTS Post(\n",
    "    PostID INTEGER NOT NULL PRIMARY KEY AUTOINCREMENT,\n",
    "    AuthorID INTEGER NOT NULL,\n",
    "    Title TEXT NOT NULL,\n",
    "    Created DATATIME NOT NULL,\n",
    "    FOREIGN KEY (AuthorID) REFERENCES Author\n",
    ")\n",
    "\"\"\")\n",
    "\n",
    "conn.commit()\n",
    "conn.close()\n"
   ]
  },
  {
   "cell_type": "code",
   "execution_count": 15,
   "metadata": {},
   "outputs": [],
   "source": [
    "import sqlite3\n",
    "import datetime\n",
    "\n",
    "conn = sqlite3.connect('exercicios1.db')\n",
    "\n",
    "cursor = conn.cursor()\n",
    "name = input('Digite o nome: ')\n",
    "title = input('Digite o título: ')\n",
    "data = datetime.datetime.now()\n",
    "\n",
    "\n",
    "cursor.execute('INSERT INTO Author (name) VALUES (?)', (name,))\n",
    "cursor.execute('INSERT INTO Post (AuthorID, Title, Created) VALUES (?,?,?)', (1, title, data))\n",
    "\n",
    "conn.commit()\n",
    "conn.close()"
   ]
  },
  {
   "cell_type": "code",
   "execution_count": 19,
   "metadata": {},
   "outputs": [],
   "source": [
    "import sqlite3\n",
    "\n",
    "conn = sqlite3.connect('exercicios1.db')\n",
    "\n",
    "cursor = conn.cursor()\n",
    "\n",
    "cursor.execute('SELECT * FROM Author')\n",
    "cursor.execute('SELECT * FROM Post')\n",
    "\n",
    "conn.commit()\n",
    "conn.close()"
   ]
  },
  {
   "cell_type": "code",
   "execution_count": 17,
   "metadata": {},
   "outputs": [
    {
     "name": "stdout",
     "output_type": "stream",
     "text": [
      "update realizado com sucesso\n"
     ]
    }
   ],
   "source": [
    "import sqlite3\n",
    "\n",
    "conn = sqlite3.connect('exercicios1.db')\n",
    "\n",
    "cursor = conn.cursor()\n",
    "\n",
    "cursor.execute('UPDATE Author SET Name = ? WHERE AuthorID = ?', ('Luan Lara de Moraes', 1))\n",
    "\n",
    "print('update realizado com sucesso')\n",
    "\n",
    "conn.commit()\n",
    "conn.close()"
   ]
  },
  {
   "cell_type": "code",
   "execution_count": 16,
   "metadata": {},
   "outputs": [
    {
     "name": "stdout",
     "output_type": "stream",
     "text": [
      "delete ok\n"
     ]
    }
   ],
   "source": [
    "import sqlite3\n",
    "\n",
    "conn = sqlite3.connect('exercicios1.db')\n",
    "\n",
    "cursor = conn.cursor()\n",
    "cursor.execute('DELETE FROM Author WHERE AuthorID = 2')\n",
    "cursor.execute('DELETE FROM Post WHERE PostID = 1')\n",
    "print('delete ok')\n",
    "\n",
    "conn.commit()\n",
    "conn.close()\n"
   ]
  }
 ],
 "metadata": {
  "kernelspec": {
   "display_name": "Python 3.10.5 64-bit",
   "language": "python",
   "name": "python3"
  },
  "language_info": {
   "codemirror_mode": {
    "name": "ipython",
    "version": 3
   },
   "file_extension": ".py",
   "mimetype": "text/x-python",
   "name": "python",
   "nbconvert_exporter": "python",
   "pygments_lexer": "ipython3",
   "version": "3.10.5"
  },
  "orig_nbformat": 4,
  "vscode": {
   "interpreter": {
    "hash": "f5a210c7bfabc5aea1472025e5f147f39e322e19c47e4c16fcf92839aba62e73"
   }
  }
 },
 "nbformat": 4,
 "nbformat_minor": 2
}
