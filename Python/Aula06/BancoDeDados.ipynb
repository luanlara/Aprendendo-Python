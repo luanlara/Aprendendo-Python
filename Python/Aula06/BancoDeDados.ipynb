{
 "cells": [
  {
   "cell_type": "code",
   "execution_count": 1,
   "metadata": {},
   "outputs": [
    {
     "name": "stdout",
     "output_type": "stream",
     "text": [
      "(1, 'andre', 35)\n",
      "(2, 'ana', 26)\n",
      "(3, 'joão', 45)\n"
     ]
    }
   ],
   "source": [
    "import pyodbc\n",
    "\n",
    "server = 'dlapoio.database.windows.net'\n",
    "database = 'masterUber'\n",
    "username = 'andre'\n",
    "password = 'ShC12%Uz'\n",
    "driver = 'SQL Server'\n",
    "\n",
    "cnxn = pyodbc.connect('DRIVER='+driver+';SERVER='+server+';PORT=1433;DATABASE='+database+';UID='+username+';PWD='+password)\n",
    "\n",
    "cursor = cnxn.cursor()\n",
    "\n",
    "cursor.execute('SELECT * FROM tb_pessoas')\n",
    "\n",
    "for linha in cursor.fetchall():\n",
    "    print(linha)\n",
    "\n"
   ]
  },
  {
   "cell_type": "code",
   "execution_count": 2,
   "metadata": {},
   "outputs": [],
   "source": [
    "import sqlite3\n",
    "\n",
    "conn = sqlite3.connect('espm4s.db')\n",
    "\n",
    "cursor = conn.cursor()\n",
    "cursor.execute(\"\"\"\n",
    "CREATE TABLE IF NOT EXISTS tb_pessoas(\n",
    "    id INTEGER NOT NULL PRIMARY KEY AUTOINCREMENT,\n",
    "    nome TEXT NOT NULL,\n",
    "    idade INT NOT NULL\n",
    ")\n",
    "\"\"\")\n",
    "\n",
    "conn.commit()\n",
    "conn.close()\n"
   ]
  },
  {
   "cell_type": "code",
   "execution_count": 3,
   "metadata": {},
   "outputs": [
    {
     "name": "stdout",
     "output_type": "stream",
     "text": [
      "linha criada\n"
     ]
    }
   ],
   "source": [
    "import sqlite3\n",
    "\n",
    "conn = sqlite3.connect('espm4s.db')\n",
    "\n",
    "cursor = conn.cursor()\n",
    "nome = input('Digite o nome: ')\n",
    "idade = int(input('Digite a idade: '))\n",
    "\n",
    "cursor.execute('INSERT INTO tb_pessoas (nome, idade) VALUES (?,?)', (nome, idade))\n",
    "\n",
    "print('linha criada')\n",
    "conn.commit()\n",
    "conn.close()"
   ]
  },
  {
   "cell_type": "code",
   "execution_count": 4,
   "metadata": {},
   "outputs": [
    {
     "name": "stdout",
     "output_type": "stream",
     "text": [
      "update realizado com sucesso\n"
     ]
    }
   ],
   "source": [
    "import sqlite3\n",
    "\n",
    "conn = sqlite3.connect('espm4s.db')\n",
    "\n",
    "cursor = conn.cursor()\n",
    "\n",
    "cursor.execute('UPDATE tb_pessoas SET nome = ? WHERE id = ?', ('Luan Lara de Moraes', 1))\n",
    "\n",
    "print('update realizado com sucesso')\n",
    "\n",
    "conn.commit()\n",
    "conn.close()"
   ]
  },
  {
   "cell_type": "code",
   "execution_count": 6,
   "metadata": {},
   "outputs": [
    {
     "name": "stdout",
     "output_type": "stream",
     "text": [
      "delete ok\n"
     ]
    }
   ],
   "source": [
    "import sqlite3\n",
    "\n",
    "conn = sqlite3.connect('espm4s.db')\n",
    "\n",
    "cursor = conn.cursor()\n",
    "\n",
    "cursor.execute('DELETE FROM tb_pessoas WHERE id = 1')\n",
    "print('delete ok')\n",
    "\n",
    "conn.commit()\n",
    "conn.close()"
   ]
  },
  {
   "cell_type": "code",
   "execution_count": 10,
   "metadata": {},
   "outputs": [],
   "source": []
  }
 ],
 "metadata": {
  "kernelspec": {
   "display_name": "Python 3.10.5 64-bit",
   "language": "python",
   "name": "python3"
  },
  "language_info": {
   "codemirror_mode": {
    "name": "ipython",
    "version": 3
   },
   "file_extension": ".py",
   "mimetype": "text/x-python",
   "name": "python",
   "nbconvert_exporter": "python",
   "pygments_lexer": "ipython3",
   "version": "3.10.5"
  },
  "orig_nbformat": 4,
  "vscode": {
   "interpreter": {
    "hash": "f5a210c7bfabc5aea1472025e5f147f39e322e19c47e4c16fcf92839aba62e73"
   }
  }
 },
 "nbformat": 4,
 "nbformat_minor": 2
}
