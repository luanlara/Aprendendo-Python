{
  "cells": [
    {
      "cell_type": "code",
      "execution_count": 2,
      "metadata": {
        "colab": {
          "base_uri": "https://localhost:8080/"
        },
        "id": "8ofH5G6A2liX",
        "outputId": "6a480e5e-44ce-4f8b-aa9a-0f30a9a10521"
      },
      "outputs": [
        {
          "name": "stdout",
          "output_type": "stream",
          "text": [
            "<class 'int'>\n",
            "<class 'float'>\n",
            "<class 'bool'>\n",
            "<class 'str'>\n",
            "<class 'NoneType'>\n",
            "<class 'int'>\n",
            "<class 'str'>\n"
          ]
        }
      ],
      "source": [
        "a = 2 \n",
        "print(type(a))\n",
        "\n",
        "a = 2.0\n",
        "print(type(a))\n",
        "\n",
        "a = True \n",
        "print(type(a))\n",
        "\n",
        "a = 'andre'\n",
        "print(type(a))\n",
        "\n",
        "a = None\n",
        "print(type(a))\n",
        "\n",
        "a = 0\n",
        "print(type(a))\n",
        "\n",
        "a = ''\n",
        "print(type(a))"
      ]
    },
    {
      "cell_type": "markdown",
      "metadata": {
        "id": "2flunkWz3fO3"
      },
      "source": [
        "# Operadores"
      ]
    },
    {
      "cell_type": "code",
      "execution_count": null,
      "metadata": {
        "colab": {
          "base_uri": "https://localhost:8080/"
        },
        "id": "HIQD45C_3g_o",
        "outputId": "b647511f-336f-4f2a-ee6c-054c73fb508f"
      },
      "outputs": [
        {
          "name": "stdout",
          "output_type": "stream",
          "text": [
            "5\n",
            "-3\n",
            "10.6\n",
            "3.1333333333333333\n",
            "1\n",
            "256\n",
            "3\n",
            "9.0\n"
          ]
        }
      ],
      "source": [
        "print(2 + 3)\n",
        "print(4 - 7)\n",
        "print(2 * 5.3)\n",
        "print(9.4 / 3)\n",
        "print(10 % 3)\n",
        "print(2 ** 8)\n",
        "print(10 // 3)\n",
        "print(81 ** 0.5)\n",
        "print(81 ** (1/2))\n",
        "\n",
        "\n"
      ]
    },
    {
      "cell_type": "markdown",
      "metadata": {
        "id": "DxRpH6mg5v3q"
      },
      "source": [
        "# Tipo String"
      ]
    },
    {
      "cell_type": "code",
      "execution_count": null,
      "metadata": {
        "colab": {
          "base_uri": "https://localhost:8080/"
        },
        "id": "GaslFtwh5nvz",
        "outputId": "bfc78d90-2122-4b0e-e9c4-2bd7f7d38485"
      },
      "outputs": [
        {
          "name": "stdout",
          "output_type": "stream",
          "text": [
            "André Insardi\n",
            "True\n",
            "Texto entre apostrófos pode ter \"aspas\"\n",
            "texto com multiplas\n",
            "linhas...\n"
          ]
        }
      ],
      "source": [
        "dir(str)\n",
        "\n",
        "nome = 'André Insardi'\n",
        "print(nome)\n",
        "\n",
        "nome[3]\n",
        "\n",
        "print(\"André Insardi\" == 'André Insardi')\n",
        "\n",
        "texto = 'Texto entre apostrófos pode ter \"aspas\"'\n",
        "print(texto)\n",
        "\n",
        "doc = \"\"\"texto com multiplas\n",
        "linhas...\"\"\"\n",
        "\n",
        "print(doc)"
      ]
    },
    {
      "cell_type": "code",
      "execution_count": null,
      "metadata": {
        "colab": {
          "base_uri": "https://localhost:8080/",
          "height": 35
        },
        "id": "pQ4WsLRC9v23",
        "outputId": "d08fb69f-3fe0-4207-b396-a6359cb9245e"
      },
      "outputs": [
        {
          "data": {
            "application/vnd.google.colaboratory.intrinsic+json": {
              "type": "string"
            },
            "text/plain": [
              "'4680'"
            ]
          },
          "execution_count": 48,
          "metadata": {},
          "output_type": "execute_result"
        }
      ],
      "source": [
        "nome = 'Um nome qualquer'\n",
        "\n",
        "nome[0]\n",
        "nome[6]\n",
        "nome[-3]\n",
        "nome[4:]\n",
        "nome[-5:]\n",
        "nome[:4]\n",
        "nome[2:5]\n",
        "\n",
        "# index  ->0123456789\n",
        "numeros = '1234567890'\n",
        "\n",
        "numeros[::]\n",
        "numeros[::2]\n",
        "numeros[::3]\n",
        "numeros[::-1]\n",
        "numeros[3::2]"
      ]
    },
    {
      "cell_type": "markdown",
      "metadata": {
        "id": "ISakdtdjig7J"
      },
      "source": [
        "# Listas"
      ]
    },
    {
      "cell_type": "code",
      "execution_count": 22,
      "metadata": {
        "colab": {
          "base_uri": "https://localhost:8080/"
        },
        "id": "NUmTpmiaikjo",
        "outputId": "95407321-5cdc-40cf-df93-3ecd8bed0f7f"
      },
      "outputs": [
        {
          "name": "stdout",
          "output_type": "stream",
          "text": [
            "[1, 5, 'Ana', 'Bia', ['C#', 'Python', 'Node'], 3.14]\n",
            "Bia\n",
            "['C#', 'Python', 'Node']\n",
            "Python\n",
            "h\n",
            "[1, 5, 'Ana', 'Bia', ['C#', 'Python', 'Node'], 3.14]\n",
            "[1, 'Ana', 'Bia', ['C#', 'Python', 'Node'], 3.14]\n",
            "[3.14, ['C#', 'Python', 'Node'], 'Bia', 'Ana', 1]\n",
            "[3.14, ['C#', 'Python', 'Node'], 'Ana', 1]\n"
          ]
        }
      ],
      "source": [
        "lista = []\n",
        "type(lista)\n",
        "\n",
        "len(lista)\n",
        "\n",
        "\n",
        "lista.append(1)\n",
        "lista.append(5)\n",
        "lista\n",
        "\n",
        "lista[0]\n",
        "len(lista)\n",
        "\n",
        "\n",
        "\n",
        "nova_lista = [1, 5,'Ana', 'Bia', ['C#', 'Python', 'Node'], 3.14]\n",
        "print(nova_lista)\n",
        "print(nova_lista[3])\n",
        "print(nova_lista[4])\n",
        "print(nova_lista[4][1])\n",
        "print(nova_lista[4][1][3])\n",
        "\n",
        "print(nova_lista)\n",
        "nova_lista.remove(5)\n",
        "print(nova_lista)\n",
        "nova_lista.reverse()\n",
        "print(nova_lista)\n",
        "del nova_lista[2]\n",
        "print(nova_lista)"
      ]
    },
    {
      "cell_type": "code",
      "execution_count": 31,
      "metadata": {
        "colab": {
          "base_uri": "https://localhost:8080/"
        },
        "id": "kRtMkuuVndKT",
        "outputId": "a117c503-cbf7-49db-92bc-13802721bc37"
      },
      "outputs": [
        {
          "name": "stdout",
          "output_type": "stream",
          "text": [
            "1\n",
            "2\n",
            "3\n",
            "[1, 5, 'Raquel', 'Guilherme', 3.1415, 'Guilherme', 'Andre']\n",
            "[1, 5, 'Ana', 'Raquel', 'Guilherme', 3.1415, 'Guilherme', 'Andre']\n"
          ]
        },
        {
          "data": {
            "text/plain": [
              "[1,\n",
              " 5,\n",
              " ['Metalica', 'Led', 'Ozy'],\n",
              " 'Ana',\n",
              " 'Raquel',\n",
              " 'Guilherme',\n",
              " 3.1415,\n",
              " 'Guilherme',\n",
              " 'Andre']"
            ]
          },
          "execution_count": 31,
          "metadata": {},
          "output_type": "execute_result"
        }
      ],
      "source": [
        "lista = [1, 5, 'Raquel', 'Guilherme', 3.1415, 'Guilherme']\n",
        "print(lista.index(5))\n",
        "print(lista.index('Raquel'))\n",
        "print(lista.index('Guilherme'))\n",
        "\n",
        "'Andre' in lista\n",
        "'Raquel' in lista\n",
        "\n",
        "lista.append('Andre')\n",
        "print(lista)\n",
        "lista.insert(2, 'Ana')\n",
        "print(lista)\n",
        "lista.insert(2, ['Metalica', 'Led', 'Ozy'])\n",
        "lista\n"
      ]
    },
    {
      "cell_type": "code",
      "execution_count": 34,
      "metadata": {
        "colab": {
          "base_uri": "https://localhost:8080/"
        },
        "id": "bZIIXrLzppMM",
        "outputId": "e06cc885-56c3-4049-de77-6a08d42f9a1a"
      },
      "outputs": [
        {
          "name": "stdout",
          "output_type": "stream",
          "text": [
            "['Aline', 'Guilherme']\n",
            "['Aline', 'Guilherme', 'Andre']\n",
            "['Aline', 'Guilherme', 'Andre', 'Dani']\n"
          ]
        }
      ],
      "source": [
        "lista = ['Ana', 'Aline', 'Guilherme', 'Andre', 'Dani']\n",
        "print(lista[1:3])\n",
        "print(lista[1:-1])\n",
        "print(lista[1:])"
      ]
    },
    {
      "cell_type": "markdown",
      "metadata": {
        "id": "zRyRUKEeqpwJ"
      },
      "source": [
        "## Tupla"
      ]
    },
    {
      "cell_type": "code",
      "execution_count": 40,
      "metadata": {
        "colab": {
          "base_uri": "https://localhost:8080/"
        },
        "id": "HhRcs2k2qr5G",
        "outputId": "bb74309f-8404-401a-b40c-c9e0dae159ba"
      },
      "outputs": [
        {
          "name": "stdout",
          "output_type": "stream",
          "text": [
            "('verde', 'amarelo', 'azul', 'branco')\n",
            "['verde', 'amarelo', 'azul', 'branco']\n"
          ]
        }
      ],
      "source": [
        "tupla = ()\n",
        "type(tupla)\n",
        "\n",
        "cores = ('verde', 'amarelo', 'azul', 'branco')\n",
        "cores[0]\n",
        "cores[-1]\n",
        "cores[1:]\n",
        "\n",
        "cores_list = list(cores)\n",
        "print(cores)\n",
        "print(cores_list)\n"
      ]
    },
    {
      "cell_type": "markdown",
      "metadata": {
        "id": "x9pUP8q_2kmU"
      },
      "source": [
        "# Dicionário"
      ]
    },
    {
      "cell_type": "code",
      "execution_count": 57,
      "metadata": {
        "colab": {
          "base_uri": "https://localhost:8080/"
        },
        "id": "op-oy8yR2nWX",
        "outputId": "1d21d476-328a-4b63-cab7-b909efe11f38"
      },
      "outputs": [
        {
          "name": "stdout",
          "output_type": "stream",
          "text": [
            "dict_keys(['nome', 'idade', 'altura', 'cursos'])\n",
            "dict_values(['Andre', 35, 1.83, ['C#', 'Node', 'React', 'Python']])\n",
            "dict_items([('nome', 'Andre'), ('idade', 35), ('altura', 1.83), ('cursos', ['C#', 'Node', 'React', 'Python'])])\n"
          ]
        }
      ],
      "source": [
        "pessoa = {}\n",
        "type(pessoa)\n",
        "\n",
        "pessoa = {'nome': 'Andre', 'idade': 35, 'altura': 1.83}\n",
        "pessoa\n",
        "pessoa['idade']\n",
        "pessoa['nome']\n",
        "\n",
        "pessoa = {'nome': 'Andre', 'idade': 35, 'altura': 1.83, 'cursos': ['C#', 'Node', 'React', 'Python']}\n",
        "pessoa\n",
        "pessoa['altura']\n",
        "pessoa['cursos']\n",
        "pessoa['cursos'][2]\n",
        "\n",
        "print(pessoa.keys())\n",
        "print(pessoa.values())\n",
        "print(pessoa.items())\n"
      ]
    },
    {
      "cell_type": "code",
      "execution_count": 67,
      "metadata": {
        "colab": {
          "base_uri": "https://localhost:8080/"
        },
        "id": "fjzx6h8M6Szm",
        "outputId": "aecd6488-e4a6-4e51-8930-c919575d0301"
      },
      "outputs": [
        {
          "name": "stdout",
          "output_type": "stream",
          "text": [
            "[('nome', 'Andre'), ('idade', 35), ('altura', 1.83), ('cursos', ['C#', 'Node', 'React', 'Python'])]\n",
            "<class 'list'>\n",
            "('cursos', ['C#', 'Node', 'React', 'Python'])\n",
            "<class 'tuple'>\n",
            "cursos\n",
            "<class 'str'>\n",
            "['C#', 'Node', 'React', 'Python']\n",
            "<class 'list'>\n",
            "React\n",
            "<class 'str'>\n",
            "t\n",
            "<class 'str'>\n"
          ]
        }
      ],
      "source": [
        "items = list(pessoa.items())\n",
        "type(items)\n",
        "print(items)\n",
        "print(type(items))\n",
        "print(items[3])\n",
        "print(type(items[3]))\n",
        "print(items[3][0])\n",
        "print(type(items[3][0]))\n",
        "print(items[3][1])\n",
        "print(type(items[3][1]))\n",
        "print(items[3][1][2])\n",
        "print(type(items[3][1][2]))\n",
        "print(items[3][1][2][4])\n",
        "print(type(items[3][1][2][4]))"
      ]
    },
    {
      "cell_type": "code",
      "execution_count": 72,
      "metadata": {
        "colab": {
          "base_uri": "https://localhost:8080/"
        },
        "id": "UK8LSA5m7XcK",
        "outputId": "8a603bf6-a11c-492b-dabd-60525fd16e13"
      },
      "outputs": [
        {
          "data": {
            "text/plain": [
              "{'altura': 1.83, 'genero': 'M', 'idade': 34, 'nome': 'Andre'}"
            ]
          },
          "execution_count": 72,
          "metadata": {},
          "output_type": "execute_result"
        }
      ],
      "source": [
        "lista_pessoas = [{'nome': 'Andre', 'idade': 35, 'altura': 1.83},\n",
        "                 {'nome': 'Ana', 'idade': 22, 'altura': 1.57},\n",
        "                 {'nome': 'João', 'idade': 39, 'altura': 1.78},\n",
        "                 {'nome': 'Bia', 'idade': 27, 'altura': 1.63}]\n",
        "\n",
        "\n",
        "lista_pessoas[2]['idade']\n",
        "\n",
        "pessoa1 = {'nome': 'Andre', 'idade': 35, 'altura': 1.83}\n",
        "\n",
        "pessoa1.update({'idade': 34, 'genero': 'M'})\n",
        "pessoa1"
      ]
    },
    {
      "cell_type": "markdown",
      "metadata": {
        "id": "KR6mwcNy_ndu"
      },
      "source": [
        "# Estrutura de condição IF"
      ]
    },
    {
      "cell_type": "code",
      "execution_count": 77,
      "metadata": {
        "colab": {
          "base_uri": "https://localhost:8080/"
        },
        "id": "EeF9gUa5_rsL",
        "outputId": "58d2efd3-6c99-4130-fc14-fa40d1d177f1"
      },
      "outputs": [
        {
          "name": "stdout",
          "output_type": "stream",
          "text": [
            "Digite o valor: 3\n",
            "Digite o valor: 6\n",
            "Digite o valor: 9\n",
            "9\n"
          ]
        }
      ],
      "source": [
        "a = int(input('Digite o valor: '))\n",
        "# print(a)\n",
        "# type(a)\n",
        "b = int(input('Digite o valor: '))\n",
        "c = int(input('Digite o valor: '))\n",
        "\n",
        "resultado = 0\n",
        "\n",
        "if a > b and a > c:\n",
        "  resultado = a\n",
        "elif b > c and b > a:\n",
        "  resultado = b\n",
        "else:\n",
        "  resultado = c\n",
        "\n",
        "print(resultado)"
      ]
    },
    {
      "cell_type": "code",
      "execution_count": 3,
      "metadata": {},
      "outputs": [
        {
          "name": "stdout",
          "output_type": "stream",
          "text": [
            "10\n",
            "9\n",
            "8\n",
            "7\n",
            "6\n",
            "5\n",
            "4\n",
            "3\n",
            "2\n",
            "1\n"
          ]
        }
      ],
      "source": [
        "a = 10\n",
        "\n",
        "while a >0:\n",
        "    print(a)\n",
        "    a = a -1"
      ]
    },
    {
      "cell_type": "code",
      "execution_count": 5,
      "metadata": {},
      "outputs": [
        {
          "name": "stdout",
          "output_type": "stream",
          "text": [
            "A pessoa Andre faz o curso C#\n",
            "A pessoa Andre faz o curso Python\n",
            "A pessoa Andre faz o curso React\n",
            "A pessoa Ana faz o curso C#\n",
            "A pessoa Ana faz o curso Python\n",
            "A pessoa Ana faz o curso Node\n",
            "A pessoa Ana faz o curso C++\n"
          ]
        }
      ],
      "source": [
        "lista_pessoas = [{'id':1, 'nome': 'Andre', 'idade': 35, 'altura': 1.83, 'cursos': ['C#', 'Python', 'React']},\n",
        "                {'id':2, 'nome': 'Ana', 'idade': 22, 'altura': 1.57, 'cursos': ['C#', 'Python', 'Node', 'C++']},\n",
        "                {'id':3, 'nome': 'João', 'idade': 39, 'altura': 1.78, 'cursos': ['Python', 'Node']},\n",
        "                {'id':4, 'nome': 'Bia', 'idade': 27, 'altura': 1.63, 'cursos': ['C#', 'Java', 'React']}]\n",
        "\n",
        "for pessoa in lista_pessoas:\n",
        "    for curso in pessoa['cursos']:\n",
        "        nome = pessoa['nome']\n",
        "        print(f'A pessoa {nome} faz o curso {curso}')"
      ]
    }
  ],
  "metadata": {
    "colab": {
      "name": "ESPMProgFunc082022.ipynb",
      "provenance": []
    },
    "kernelspec": {
      "display_name": "Python 3.10.5 64-bit",
      "language": "python",
      "name": "python3"
    },
    "language_info": {
      "codemirror_mode": {
        "name": "ipython",
        "version": 3
      },
      "file_extension": ".py",
      "mimetype": "text/x-python",
      "name": "python",
      "nbconvert_exporter": "python",
      "pygments_lexer": "ipython3",
      "version": "3.10.5"
    },
    "vscode": {
      "interpreter": {
        "hash": "f5a210c7bfabc5aea1472025e5f147f39e322e19c47e4c16fcf92839aba62e73"
      }
    }
  },
  "nbformat": 4,
  "nbformat_minor": 0
}
