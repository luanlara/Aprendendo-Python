{
 "cells": [
  {
   "cell_type": "code",
   "execution_count": 7,
   "metadata": {},
   "outputs": [
    {
     "name": "stdout",
     "output_type": "stream",
     "text": [
      "!araL nauL\n"
     ]
    }
   ],
   "source": [
    "# 1\n",
    "variavel = 'Luan Lara!'\n",
    "print(variavel[::-1])"
   ]
  },
  {
   "cell_type": "code",
   "execution_count": 10,
   "metadata": {},
   "outputs": [
    {
     "name": "stdout",
     "output_type": "stream",
     "text": [
      "False\n",
      "True\n",
      "False\n"
     ]
    }
   ],
   "source": [
    "# 2\n",
    "frase = 'Python é uma linguagem excelente'\n",
    "print('py' in frase)\n",
    "print('ing' in frase)\n",
    "print('zzz' in frase)"
   ]
  },
  {
   "cell_type": "code",
   "execution_count": 8,
   "metadata": {},
   "outputs": [
    {
     "name": "stdout",
     "output_type": "stream",
     "text": [
      "71.06899100117376%\n"
     ]
    }
   ],
   "source": [
    "# 3\n",
    "salario = 3450.45\n",
    "despesas = 2452.2\n",
    "total = despesas / salario * 100\n",
    "print(f'{total}%')"
   ]
  },
  {
   "cell_type": "code",
   "execution_count": 1,
   "metadata": {},
   "outputs": [
    {
     "name": "stdout",
     "output_type": "stream",
     "text": [
      "A soma é 11\n"
     ]
    }
   ],
   "source": [
    "# 4\n",
    "x = int(input('Digite o valor de x: '))\n",
    "y = int(input('Digite o valor de y: '))\n",
    "print(f'A soma é {x+y}')"
   ]
  },
  {
   "cell_type": "code",
   "execution_count": 16,
   "metadata": {},
   "outputs": [
    {
     "name": "stdout",
     "output_type": "stream",
     "text": [
      "Adulto\n"
     ]
    }
   ],
   "source": [
    "#5\n",
    "idade = int(input('Digite a idade: '))\n",
    "if 0 <= idade < 18:\n",
    "    print(\"Menor de idade\")\n",
    "elif idade in range(18,65):\n",
    "    print(\"Adulto\")\n",
    "elif idade in range(65,100):\n",
    "    print(\"Melhor idade\")\n",
    "elif idade >= 100:\n",
    "    print(\"Centenário\")\n",
    "else:\n",
    "    print(\"Idade inválida\")"
   ]
  },
  {
   "cell_type": "code",
   "execution_count": 18,
   "metadata": {},
   "outputs": [
    {
     "name": "stdout",
     "output_type": "stream",
     "text": [
      "p,a,r,a,l,e,l,e,p,í,p,e,d,o,"
     ]
    }
   ],
   "source": [
    "# 6\n",
    "palavra = 'paralelepípedo'\n",
    "for letra in palavra:\n",
    "    print(letra,end=\",\")\n"
   ]
  },
  {
   "cell_type": "code",
   "execution_count": 6,
   "metadata": {},
   "outputs": [
    {
     "name": "stdout",
     "output_type": "stream",
     "text": [
      "Danieli\n",
      "André\n",
      "Marcelo\n",
      "Ana Paula\n"
     ]
    }
   ],
   "source": [
    "# 7\n",
    "nomes = ['Danieli', 'André', 'Marcelo', 'Ana Paula']\n",
    "for nome in nomes:\n",
    "    print(nome)"
   ]
  },
  {
   "cell_type": "code",
   "execution_count": null,
   "metadata": {},
   "outputs": [],
   "source": [
    "# 8 \n",
    "from random import randint\n",
    "\n",
    "sorteado = randint(0,9)\n",
    "x = int(input('Chute um valor de 0 a 9: '))\n",
    "if x == sorteado:\n",
    "    print(f'Número secreto {sorteado} foi encontrado!')\n",
    "else: print(f'Não encontrado!')"
   ]
  },
  {
   "cell_type": "code",
   "execution_count": 22,
   "metadata": {},
   "outputs": [
    {
     "name": "stdout",
     "output_type": "stream",
     "text": [
      "O número secreto 5 foi encontrado.\n"
     ]
    }
   ],
   "source": [
    "# Outra maneira de fazer o 8\n",
    "from random import randint\n",
    "\n",
    "sorteio = randint(0,9)\n",
    "resposta = int(input(\"Digite um valor: \"))\n",
    "\n",
    "while resposta != sorteio:\n",
    "    resposta = int(input(\"Digite um valor: \"))\n",
    "\n",
    "print(f\"O número secreto {sorteio} foi encontrado.\")"
   ]
  },
  {
   "cell_type": "code",
   "execution_count": 24,
   "metadata": {},
   "outputs": [
    {
     "name": "stdout",
     "output_type": "stream",
     "text": [
      "[3, 5, 8, 13, 21, 34, 55, 89, 144, 233]\n"
     ]
    }
   ],
   "source": [
    "# 9 - Fibonacci\n",
    "x = int(input(\"Digite: \"))\n",
    "lista = []\n",
    "lista.append(0)\n",
    "lista.append(1)\n",
    "\n",
    "for number in range(2, 9 + x):\n",
    "    lista.append(lista[number-1] + lista[number-2])\n",
    "\n",
    "print(lista[x-1:])"
   ]
  }
 ],
 "metadata": {
  "kernelspec": {
   "display_name": "Python 3.10.5 64-bit",
   "language": "python",
   "name": "python3"
  },
  "language_info": {
   "codemirror_mode": {
    "name": "ipython",
    "version": 3
   },
   "file_extension": ".py",
   "mimetype": "text/x-python",
   "name": "python",
   "nbconvert_exporter": "python",
   "pygments_lexer": "ipython3",
   "version": "3.10.5"
  },
  "orig_nbformat": 4,
  "vscode": {
   "interpreter": {
    "hash": "f5a210c7bfabc5aea1472025e5f147f39e322e19c47e4c16fcf92839aba62e73"
   }
  }
 },
 "nbformat": 4,
 "nbformat_minor": 2
}
