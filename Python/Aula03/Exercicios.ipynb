{
 "cells": [
  {
   "cell_type": "code",
   "execution_count": 1,
   "metadata": {},
   "outputs": [
    {
     "name": "stdout",
     "output_type": "stream",
     "text": [
      "!araL nauL\n"
     ]
    }
   ],
   "source": [
    "# 1\n",
    "variavel = 'Luan Lara!'\n",
    "print(variavel[::-1])"
   ]
  },
  {
   "cell_type": "code",
   "execution_count": null,
   "metadata": {},
   "outputs": [],
   "source": [
    "# 2"
   ]
  },
  {
   "cell_type": "code",
   "execution_count": 2,
   "metadata": {},
   "outputs": [
    {
     "name": "stdout",
     "output_type": "stream",
     "text": [
      "71.06899100117376%\n"
     ]
    }
   ],
   "source": [
    "# 3\n",
    "salario = 3450.45\n",
    "despesas = 2452.2\n",
    "total = despesas / salario * 100\n",
    "print(f'{total}%')"
   ]
  },
  {
   "cell_type": "code",
   "execution_count": 1,
   "metadata": {},
   "outputs": [
    {
     "ename": "ValueError",
     "evalue": "invalid literal for int() with base 10: ''",
     "output_type": "error",
     "traceback": [
      "\u001b[1;31m---------------------------------------------------------------------------\u001b[0m",
      "\u001b[1;31mValueError\u001b[0m                                Traceback (most recent call last)",
      "\u001b[1;32mc:\\Users\\luan.moraes\\Documents\\GitHub\\Aprendendo-Python\\Python\\Aula03\\Exercicios.ipynb Célula: 4\u001b[0m in \u001b[0;36m<cell line: 2>\u001b[1;34m()\u001b[0m\n\u001b[0;32m      <a href='vscode-notebook-cell:/c%3A/Users/luan.moraes/Documents/GitHub/Aprendendo-Python/Python/Aula03/Exercicios.ipynb#W3sZmlsZQ%3D%3D?line=0'>1</a>\u001b[0m \u001b[39m# 4\u001b[39;00m\n\u001b[1;32m----> <a href='vscode-notebook-cell:/c%3A/Users/luan.moraes/Documents/GitHub/Aprendendo-Python/Python/Aula03/Exercicios.ipynb#W3sZmlsZQ%3D%3D?line=1'>2</a>\u001b[0m x \u001b[39m=\u001b[39m \u001b[39mint\u001b[39;49m(\u001b[39minput\u001b[39;49m(\u001b[39m'\u001b[39;49m\u001b[39mDigite o valor de x: \u001b[39;49m\u001b[39m'\u001b[39;49m))\n\u001b[0;32m      <a href='vscode-notebook-cell:/c%3A/Users/luan.moraes/Documents/GitHub/Aprendendo-Python/Python/Aula03/Exercicios.ipynb#W3sZmlsZQ%3D%3D?line=2'>3</a>\u001b[0m y \u001b[39m=\u001b[39m \u001b[39mint\u001b[39m(\u001b[39minput\u001b[39m(\u001b[39m'\u001b[39m\u001b[39mDigite o valor de y: \u001b[39m\u001b[39m'\u001b[39m))\n\u001b[0;32m      <a href='vscode-notebook-cell:/c%3A/Users/luan.moraes/Documents/GitHub/Aprendendo-Python/Python/Aula03/Exercicios.ipynb#W3sZmlsZQ%3D%3D?line=3'>4</a>\u001b[0m \u001b[39mprint\u001b[39m(\u001b[39mf\u001b[39m\u001b[39m'\u001b[39m\u001b[39mA soma é \u001b[39m\u001b[39m{\u001b[39;00mx\u001b[39m+\u001b[39my\u001b[39m}\u001b[39;00m\u001b[39m'\u001b[39m)\n",
      "\u001b[1;31mValueError\u001b[0m: invalid literal for int() with base 10: ''"
     ]
    }
   ],
   "source": [
    "# 4\n",
    "x = int(input('Digite o valor de x: '))\n",
    "y = int(input('Digite o valor de y: '))\n",
    "print(f'A soma é {x+y}')"
   ]
  },
  {
   "cell_type": "code",
   "execution_count": 2,
   "metadata": {},
   "outputs": [
    {
     "ename": "ValueError",
     "evalue": "invalid literal for int() with base 10: ''",
     "output_type": "error",
     "traceback": [
      "\u001b[1;31m---------------------------------------------------------------------------\u001b[0m",
      "\u001b[1;31mValueError\u001b[0m                                Traceback (most recent call last)",
      "\u001b[1;32mc:\\Users\\luan.moraes\\Documents\\GitHub\\Aprendendo-Python\\Python\\Aula03\\Exercicios.ipynb Célula: 5\u001b[0m in \u001b[0;36m<cell line: 2>\u001b[1;34m()\u001b[0m\n\u001b[0;32m      <a href='vscode-notebook-cell:/c%3A/Users/luan.moraes/Documents/GitHub/Aprendendo-Python/Python/Aula03/Exercicios.ipynb#W4sZmlsZQ%3D%3D?line=0'>1</a>\u001b[0m \u001b[39m#5\u001b[39;00m\n\u001b[1;32m----> <a href='vscode-notebook-cell:/c%3A/Users/luan.moraes/Documents/GitHub/Aprendendo-Python/Python/Aula03/Exercicios.ipynb#W4sZmlsZQ%3D%3D?line=1'>2</a>\u001b[0m idade \u001b[39m=\u001b[39m \u001b[39mint\u001b[39;49m(\u001b[39minput\u001b[39;49m(\u001b[39m'\u001b[39;49m\u001b[39mDigite a idade: \u001b[39;49m\u001b[39m'\u001b[39;49m))\n\u001b[0;32m      <a href='vscode-notebook-cell:/c%3A/Users/luan.moraes/Documents/GitHub/Aprendendo-Python/Python/Aula03/Exercicios.ipynb#W4sZmlsZQ%3D%3D?line=2'>3</a>\u001b[0m \u001b[39mif\u001b[39;00m idade \u001b[39m<\u001b[39m \u001b[39m18\u001b[39m:\n\u001b[0;32m      <a href='vscode-notebook-cell:/c%3A/Users/luan.moraes/Documents/GitHub/Aprendendo-Python/Python/Aula03/Exercicios.ipynb#W4sZmlsZQ%3D%3D?line=3'>4</a>\u001b[0m     \u001b[39mprint\u001b[39m(\u001b[39m\"\u001b[39m\u001b[39mMenor de idade\u001b[39m\u001b[39m\"\u001b[39m)\n",
      "\u001b[1;31mValueError\u001b[0m: invalid literal for int() with base 10: ''"
     ]
    }
   ],
   "source": [
    "#5\n",
    "idade = int(input('Digite a idade: '))\n",
    "if idade < 18:\n",
    "    print(\"Menor de idade\")\n",
    "elif 18 <= idade <= 65:\n",
    "    print(\"Adulto\")\n",
    "elif 66 <= idade <= 100:\n",
    "    print(\"Melhor idade\")\n",
    "else:\n",
    "    print(\"Centenário\")"
   ]
  },
  {
   "cell_type": "code",
   "execution_count": null,
   "metadata": {},
   "outputs": [],
   "source": [
    "# 6\n",
    "palavra = 'paralelepípedo'\n",
    "for letra in palavra:\n",
    "    print(f'{letra},',end=\"\")\n"
   ]
  },
  {
   "cell_type": "code",
   "execution_count": null,
   "metadata": {},
   "outputs": [],
   "source": [
    "# 7\n",
    "nomes = ['Danieli', 'André', 'Marcelo', 'Ana Paula']\n",
    "for nome in nomes:\n",
    "    print(nome)"
   ]
  },
  {
   "cell_type": "code",
   "execution_count": null,
   "metadata": {},
   "outputs": [],
   "source": [
    "# 8 \n",
    "sorteado = randint(0,9)\n",
    "x = int(input('Chute um valor de 0 a 9: '))\n",
    "if x == sorteado:\n",
    "    print(f'Número secreto {sorteado} foi encontrado!')\n",
    "else: print(f'Não encontrado!')"
   ]
  },
  {
   "cell_type": "code",
   "execution_count": null,
   "metadata": {},
   "outputs": [],
   "source": [
    "# 9 - Fibonacci"
   ]
  }
 ],
 "metadata": {
  "kernelspec": {
   "display_name": "Python 3.10.5 64-bit",
   "language": "python",
   "name": "python3"
  },
  "language_info": {
   "codemirror_mode": {
    "name": "ipython",
    "version": 3
   },
   "file_extension": ".py",
   "mimetype": "text/x-python",
   "name": "python",
   "nbconvert_exporter": "python",
   "pygments_lexer": "ipython3",
   "version": "3.10.5"
  },
  "orig_nbformat": 4,
  "vscode": {
   "interpreter": {
    "hash": "f5a210c7bfabc5aea1472025e5f147f39e322e19c47e4c16fcf92839aba62e73"
   }
  }
 },
 "nbformat": 4,
 "nbformat_minor": 2
}
